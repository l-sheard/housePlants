{
 "cells": [
  {
   "cell_type": "code",
   "execution_count": 24,
   "id": "80c1f01c",
   "metadata": {},
   "outputs": [
    {
     "name": "stdout",
     "output_type": "stream",
     "text": [
      "Part shade to full shade\n"
     ]
    }
   ],
   "source": [
    "import csv\n",
    "\n",
    "\n",
    "input_csv_file = 'plantsCareData.csv'\n",
    "\n",
    "output_csv_file = 'outputPlantsCareData.csv'\n",
    "\n",
    "\n",
    "columns_to_delete = [0,2,5,6,7,10,11,12,13,15]  \n",
    "\n",
    "with open(input_csv_file, 'r') as infile, open(output_csv_file, 'w', newline='') as outfile:\n",
    "    csv_reader = csv.reader(infile)\n",
    "    csv_writer = csv.writer(outfile)\n",
    "\n",
    "    for row in csv_reader:\n",
    "        filtered_row = [row[i] for i in range(len(row)) if i not in columns_to_delete]\n",
    "        csv_writer.writerow(filtered_row)\n",
    "csv_file_path = 'outputPlantsCareData.csv'\n",
    "\n",
    "with open(csv_file_path, 'r') as file:\n",
    "    csv_reader = csv.DictReader(file)\n",
    "    for row in csv_reader:\n",
    "        if row['Common_Name'] == \"Zebra Plant\":\n",
    "            print(row['Sunlight'])"
   ]
  },
  {
   "cell_type": "code",
   "execution_count": null,
   "id": "ad812034",
   "metadata": {},
   "outputs": [],
   "source": []
  }
 ],
 "metadata": {
  "kernelspec": {
   "display_name": "Python 3 (ipykernel)",
   "language": "python",
   "name": "python3"
  },
  "language_info": {
   "codemirror_mode": {
    "name": "ipython",
    "version": 3
   },
   "file_extension": ".py",
   "mimetype": "text/x-python",
   "name": "python",
   "nbconvert_exporter": "python",
   "pygments_lexer": "ipython3",
   "version": "3.11.3"
  }
 },
 "nbformat": 4,
 "nbformat_minor": 5
}
